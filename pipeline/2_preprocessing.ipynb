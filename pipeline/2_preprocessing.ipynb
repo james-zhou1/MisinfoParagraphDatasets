{
 "cells": [
  {
   "cell_type": "code",
   "execution_count": 6,
   "metadata": {},
   "outputs": [],
   "source": [
    "import warnings\n",
    "warnings.filterwarnings('ignore')\n",
    "import pandas as pd\n",
    "import os\n",
    "import subprocess"
   ]
  },
  {
   "cell_type": "code",
   "execution_count": 7,
   "metadata": {},
   "outputs": [],
   "source": [
    "INPUT_PATH = \"../datasets/2_data_paragraph_labelled.csv\"\n",
    "OUTPUT_PATH = \"../datasets/3_data_paragraph_labelled_prepared.csv\""
   ]
  },
  {
   "cell_type": "code",
   "execution_count": 10,
   "metadata": {},
   "outputs": [],
   "source": [
    "original_cwd = os.getcwd()\n",
    "os.chdir(\"../misinfo-dataset-preprocessing\")\n",
    "\n",
    "result = subprocess.run(\n",
    "    ['python', 'main.py', '--data', INPUT_PATH],\n",
    "    capture_output=True,\n",
    "    text=True\n",
    ")\n",
    "\n",
    "os.chdir(original_cwd)\n",
    "processed_df = pd.read_csv(\"../misinfo-dataset-preprocessing/source_files/dat_claims_veracity_mapped_moved_converted_updatedSplit.csv\")"
   ]
  },
  {
   "cell_type": "code",
   "execution_count": 11,
   "metadata": {},
   "outputs": [],
   "source": [
    "processed_df.to_csv(OUTPUT_PATH, index=False)"
   ]
  }
 ],
 "metadata": {
  "kernelspec": {
   "display_name": "127hw4",
   "language": "python",
   "name": "python3"
  },
  "language_info": {
   "codemirror_mode": {
    "name": "ipython",
    "version": 3
   },
   "file_extension": ".py",
   "mimetype": "text/x-python",
   "name": "python",
   "nbconvert_exporter": "python",
   "pygments_lexer": "ipython3",
   "version": "3.11.0"
  }
 },
 "nbformat": 4,
 "nbformat_minor": 2
}
