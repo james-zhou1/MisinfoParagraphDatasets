{
 "cells": [
  {
   "cell_type": "code",
   "execution_count": 1,
   "metadata": {},
   "outputs": [],
   "source": [
    "import sys\n",
    "sys.path.append('..')\n",
    "from config import *"
   ]
  },
  {
   "cell_type": "code",
   "execution_count": 2,
   "metadata": {},
   "outputs": [],
   "source": [
    "PIPELINE_DIR = os.getcwd()\n",
    "PREPROCESSING_DIR = \"../misinfo-dataset-preprocessing\""
   ]
  },
  {
   "cell_type": "code",
   "execution_count": 3,
   "metadata": {},
   "outputs": [],
   "source": [
    "INPUT_PATH = \"../datasets/2_data_paragraph_labelled.csv\"\n",
    "TEMP_PATH = f\"{PREPROCESSING_DIR}/source_files/dat_claims_veracity_mapped_moved_converted_updatedSplit.csv\"\n",
    "OUTPUT_PATH = \"../datasets/3_data_paragraph_labelled_prepared.csv\""
   ]
  },
  {
   "cell_type": "code",
   "execution_count": 4,
   "metadata": {},
   "outputs": [],
   "source": [
    "os.chdir(PREPROCESSING_DIR)\n",
    "result = subprocess.run(['python', 'main.py', '--data', INPUT_PATH], capture_output=True, text=True)\n",
    "os.chdir(PIPELINE_DIR)"
   ]
  },
  {
   "cell_type": "code",
   "execution_count": 5,
   "metadata": {},
   "outputs": [],
   "source": [
    "# processed_df = pd.read_csv(TEMP_PATH, encoding='utf-8', low_memory=False)\n",
    "processed_df = pd.read_csv(INPUT_PATH, encoding='utf-8', encoding_errors='replace')"
   ]
  },
  {
   "cell_type": "code",
   "execution_count": 6,
   "metadata": {},
   "outputs": [
    {
     "name": "stdout",
     "output_type": "stream",
     "text": [
      "veracity\n",
      "1    70377\n",
      "2    40879\n",
      "3    16957\n",
      "Name: count, dtype: int64\n"
     ]
    }
   ],
   "source": [
    "processed_df.to_csv(OUTPUT_PATH, index=False)\n",
    "print(processed_df['veracity'].value_counts(dropna=False))\n",
    "play()"
   ]
  }
 ],
 "metadata": {
  "kernelspec": {
   "display_name": "127hw4",
   "language": "python",
   "name": "python3"
  },
  "language_info": {
   "codemirror_mode": {
    "name": "ipython",
    "version": 3
   },
   "file_extension": ".py",
   "mimetype": "text/x-python",
   "name": "python",
   "nbconvert_exporter": "python",
   "pygments_lexer": "ipython3",
   "version": "3.11.0"
  }
 },
 "nbformat": 4,
 "nbformat_minor": 2
}
