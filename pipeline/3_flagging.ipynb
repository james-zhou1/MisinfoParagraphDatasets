{
 "cells": [
  {
   "cell_type": "code",
   "execution_count": 5,
   "metadata": {},
   "outputs": [],
   "source": [
    "import sys\n",
    "sys.path.append('..')\n",
    "from config import *"
   ]
  },
  {
   "cell_type": "code",
   "execution_count": 6,
   "metadata": {},
   "outputs": [],
   "source": [
    "TRAIN_INPUT_PATH = \"../misinfo-dataset-preprocessing/Misinfo_Datasets/train.parquet\"\n",
    "VALIDATION_INPUT_PATH = \"../misinfo-dataset-preprocessing/Misinfo_Datasets/validation.parquet\"\n",
    "TEST_INPUT_PATH = \"../misinfo-dataset-preprocessing/Misinfo_Datasets/test.parquet\"\n",
    "\n",
    "TRAIN_OUTPUT_PATH = \"../datasets/4_data_paragraph_labelled_prepared_flagged_train.parquet\"\n",
    "VALIDATION_OUTPUT_PATH = \"../datasets/4_data_paragraph_labelled_prepared_flagged_validation.parquet\"\n",
    "TEST_OUTPUT_PATH = \"../datasets/4_data_paragraph_labelled_prepared_flagged_test.parquet\"\n",
    "\n",
    "input_paths = [TRAIN_INPUT_PATH, VALIDATION_INPUT_PATH, TEST_INPUT_PATH]\n",
    "output_paths = [TRAIN_OUTPUT_PATH, VALIDATION_OUTPUT_PATH, TEST_OUTPUT_PATH]"
   ]
  },
  {
   "cell_type": "code",
   "execution_count": 7,
   "metadata": {},
   "outputs": [],
   "source": [
    "for input_path, output_path in zip(input_paths, output_paths):\n",
    "    data = pd.read_parquet(input_path)\n",
    "\n",
    "    columns = list(data.columns)\n",
    "    new_order = columns[:4]\n",
    "    new_order.append('flag')\n",
    "    new_order.extend(columns[4:])\n",
    "    data['flag'] = 'paragraph'\n",
    "    data = data[new_order]\n",
    "\n",
    "    data.to_parquet(output_path, index=False)"
   ]
  },
  {
   "cell_type": "code",
   "execution_count": 8,
   "metadata": {},
   "outputs": [],
   "source": [
    "play()"
   ]
  }
 ],
 "metadata": {
  "kernelspec": {
   "display_name": "127hw4",
   "language": "python",
   "name": "python3"
  },
  "language_info": {
   "codemirror_mode": {
    "name": "ipython",
    "version": 3
   },
   "file_extension": ".py",
   "mimetype": "text/x-python",
   "name": "python",
   "nbconvert_exporter": "python",
   "pygments_lexer": "ipython3",
   "version": "3.11.0"
  }
 },
 "nbformat": 4,
 "nbformat_minor": 2
}
