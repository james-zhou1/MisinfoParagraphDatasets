{
 "cells": [
  {
   "cell_type": "code",
   "execution_count": 1,
   "metadata": {},
   "outputs": [],
   "source": [
    "import warnings\n",
    "warnings.filterwarnings('ignore')\n",
    "import pandas as pd\n",
    "import json"
   ]
  },
  {
   "cell_type": "code",
   "execution_count": 2,
   "metadata": {},
   "outputs": [],
   "source": [
    "INPUT_PATH = \"../datasets/1_data_paragraph.csv\"\n",
    "OUTPUT_PATH = \"../datasets/2_data_paragraph_labelled.csv\""
   ]
  },
  {
   "cell_type": "code",
   "execution_count": 3,
   "metadata": {},
   "outputs": [],
   "source": [
    "data_paragraph = pd.read_csv(INPUT_PATH, encoding='latin-1', low_memory=False)"
   ]
  },
  {
   "cell_type": "code",
   "execution_count": 4,
   "metadata": {},
   "outputs": [],
   "source": [
    "# Step 2: Get the paragraph data with labels\n",
    "def map_label(row):\n",
    "    dataset = row['dataset'].lower().replace('-', '_').replace(' ', '_')\n",
    "    original_label = str(row['label']).lower().strip()\n",
    "    dataset_mapping = label_mapping.get(dataset, {})\n",
    "    mapped_value = dataset_mapping.get(original_label, 'Unknown')\n",
    "    return str(mapped_value).strip()  # Ensure we return a clean string\n",
    "\n",
    "with open('label_mappings.json', 'r') as f:\n",
    "    label_mapping = json.load(f)\n",
    "data_paragraph_labeled = data_paragraph.copy()\n",
    "data_paragraph_labeled['veracity'] = data_paragraph_labeled.apply(map_label, axis=1)"
   ]
  },
  {
   "cell_type": "code",
   "execution_count": 5,
   "metadata": {},
   "outputs": [],
   "source": [
    "data_paragraph_labeled.to_csv(OUTPUT_PATH, index=False)"
   ]
  }
 ],
 "metadata": {
  "kernelspec": {
   "display_name": "127hw4",
   "language": "python",
   "name": "python3"
  },
  "language_info": {
   "codemirror_mode": {
    "name": "ipython",
    "version": 3
   },
   "file_extension": ".py",
   "mimetype": "text/x-python",
   "name": "python",
   "nbconvert_exporter": "python",
   "pygments_lexer": "ipython3",
   "version": "3.11.0"
  }
 },
 "nbformat": 4,
 "nbformat_minor": 2
}
