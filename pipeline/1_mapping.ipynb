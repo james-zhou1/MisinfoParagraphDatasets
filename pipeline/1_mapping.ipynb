{
 "cells": [
  {
   "cell_type": "code",
   "execution_count": 1,
   "metadata": {},
   "outputs": [],
   "source": [
    "import sys\n",
    "sys.path.append('..')\n",
    "from config import *"
   ]
  },
  {
   "cell_type": "code",
   "execution_count": 2,
   "metadata": {},
   "outputs": [],
   "source": [
    "INPUT_PATH = \"../datasets/1_data_paragraph.csv\"\n",
    "OUTPUT_PATH = \"../datasets/2_data_paragraph_labelled.csv\"\n",
    "LABEL_MAPPING_PATH = \"../label_mappings.json\""
   ]
  },
  {
   "cell_type": "code",
   "execution_count": 3,
   "metadata": {},
   "outputs": [],
   "source": [
    "# data_paragraph_labeled = pd.read_csv(INPUT_PATH, encoding='utf-8', low_memory=False)\n",
    "data_paragraph_labeled = pd.read_csv(INPUT_PATH, encoding='utf-8', encoding_errors='replace')\n",
    "label_mapping = json.loads(Path(LABEL_MAPPING_PATH).read_text())"
   ]
  },
  {
   "cell_type": "code",
   "execution_count": 4,
   "metadata": {},
   "outputs": [],
   "source": [
    "data_paragraph_labeled['veracity'] = data_paragraph_labeled.apply(\n",
    "    lambda row: label_mapping.get(row['dataset'], {}).get(row['label'], 'Unknown'),\n",
    "    axis=1\n",
    ")"
   ]
  },
  {
   "cell_type": "code",
   "execution_count": 5,
   "metadata": {},
   "outputs": [],
   "source": [
    "veracity_mapping = {\n",
    "    'True': '1',\n",
    "    'False': '2',\n",
    "    'Unknown': '3'\n",
    "}\n",
    "data_paragraph_labeled['veracity'] = data_paragraph_labeled['veracity'].map(veracity_mapping)"
   ]
  },
  {
   "cell_type": "code",
   "execution_count": 6,
   "metadata": {},
   "outputs": [
    {
     "name": "stdout",
     "output_type": "stream",
     "text": [
      "veracity\n",
      "1    70377\n",
      "2    40879\n",
      "3    16957\n",
      "Name: count, dtype: int64\n"
     ]
    }
   ],
   "source": [
    "data_paragraph_labeled.to_csv(OUTPUT_PATH, index=False)\n",
    "print(data_paragraph_labeled['veracity'].value_counts(dropna=False))\n",
    "play()"
   ]
  }
 ],
 "metadata": {
  "kernelspec": {
   "display_name": "127hw4",
   "language": "python",
   "name": "python3"
  },
  "language_info": {
   "codemirror_mode": {
    "name": "ipython",
    "version": 3
   },
   "file_extension": ".py",
   "mimetype": "text/x-python",
   "name": "python",
   "nbconvert_exporter": "python",
   "pygments_lexer": "ipython3",
   "version": "3.11.0"
  }
 },
 "nbformat": 4,
 "nbformat_minor": 2
}
