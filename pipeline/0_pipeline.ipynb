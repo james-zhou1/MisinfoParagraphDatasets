{
 "cells": [
  {
   "cell_type": "code",
   "execution_count": 1,
   "metadata": {},
   "outputs": [],
   "source": [
    "import sys\n",
    "sys.path.append('..')\n",
    "from config import *"
   ]
  },
  {
   "cell_type": "code",
   "execution_count": 2,
   "metadata": {},
   "outputs": [],
   "source": [
    "INPUT_PATH = \"../datasets/0_data.csv\"\n",
    "OUTPUT_PATH = \"../datasets/1_data_paragraph.csv\"\n",
    "LABEL_MAPPING_PATH = \"../label_mappings.json\""
   ]
  },
  {
   "cell_type": "code",
   "execution_count": 3,
   "metadata": {},
   "outputs": [],
   "source": [
    "# data = pd.read_csv(INPUT_PATH, encoding='utf-8', low_memory=False)\n",
    "data = pd.read_csv(INPUT_PATH, encoding='utf-8', encoding_errors='replace')"
   ]
  },
  {
   "cell_type": "code",
   "execution_count": 4,
   "metadata": {},
   "outputs": [],
   "source": [
    "with open(LABEL_MAPPING_PATH, 'r') as f:\n",
    "    label_mapping = json.load(f)\n",
    "data['dataset'] = data['dataset'].str.lower()\n",
    "data['dataset'] = data['dataset'].str.replace('-', '_')\n",
    "data['dataset'] = data['dataset'].str.replace(' ', '_')\n",
    "data_paragraph = data[data['dataset'].isin(label_mapping.keys())]"
   ]
  },
  {
   "cell_type": "code",
   "execution_count": 5,
   "metadata": {},
   "outputs": [],
   "source": [
    "data_paragraph.to_csv(OUTPUT_PATH, index=False)\n",
    "play()"
   ]
  }
 ],
 "metadata": {
  "kernelspec": {
   "display_name": "127hw4",
   "language": "python",
   "name": "python3"
  },
  "language_info": {
   "codemirror_mode": {
    "name": "ipython",
    "version": 3
   },
   "file_extension": ".py",
   "mimetype": "text/x-python",
   "name": "python",
   "nbconvert_exporter": "python",
   "pygments_lexer": "ipython3",
   "version": "3.11.0"
  }
 },
 "nbformat": 4,
 "nbformat_minor": 2
}
