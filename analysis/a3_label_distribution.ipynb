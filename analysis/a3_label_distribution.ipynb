{
 "cells": [
  {
   "cell_type": "code",
   "execution_count": 7,
   "metadata": {},
   "outputs": [],
   "source": [
    "import sys\n",
    "sys.path.append('..')\n",
    "from config import *"
   ]
  },
  {
   "cell_type": "code",
   "execution_count": 8,
   "metadata": {},
   "outputs": [],
   "source": [
    "INPUT_PATH = \"../datasets/4_data_paragraph_labelled_prepared_flagged.csv\"\n",
    "LABEL_MAPPING_PATH = \"../label_mappings.json\""
   ]
  },
  {
   "cell_type": "code",
   "execution_count": 9,
   "metadata": {},
   "outputs": [],
   "source": [
    "df = pd.read_csv(INPUT_PATH, dtype=str, low_memory=False)\n",
    "with open(LABEL_MAPPING_PATH, 'r') as f:\n",
    "    label_mappings = json.load(f)"
   ]
  },
  {
   "cell_type": "code",
   "execution_count": 10,
   "metadata": {},
   "outputs": [
    {
     "name": "stdout",
     "output_type": "stream",
     "text": [
      "Number of rows in dataset: 128213\n",
      "\n",
      "Unique values in veracity column: ['false' 'true' 'unknown']\n",
      "\n",
      "Unique datasets: ['banfakenews' 'benjamin_political_news' 'fa_kes' 'fake_news_corpus'\n",
      " 'fakenewsamt' 'isot_fake_news' 'celebrity' 'ct_fan' 'ti_cnn']\n",
      "veracity\n",
      "true       87082\n",
      "false      40879\n",
      "unknown      252\n",
      "Name: count, dtype: int64\n"
     ]
    }
   ],
   "source": [
    "print(\"Number of rows in dataset:\", len(df))\n",
    "print(\"\\nUnique values in veracity column:\", df['veracity'].unique())\n",
    "print(\"\\nUnique datasets:\", df['dataset'].unique())\n",
    "print(df['veracity'].value_counts(dropna=False))"
   ]
  },
  {
   "cell_type": "code",
   "execution_count": 11,
   "metadata": {},
   "outputs": [
    {
     "name": "stdout",
     "output_type": "stream",
     "text": [
      "\n",
      "Veracity Distribution by Dataset:\n",
      "                Dataset  True claims (%)  False claims (%)  Other (%)\n",
      "            banfakenews            95.56              4.44       0.00\n",
      "benjamin_political_news            39.26             60.74       0.00\n",
      "              celebrity            50.00             50.00       0.00\n",
      "                 ct_fan            26.97             64.78       8.25\n",
      "                 fa_kes            52.99             47.01       0.00\n",
      "       fake_news_corpus             1.20             79.20      19.60\n",
      "            fakenewsamt            50.00             50.00       0.00\n",
      "         isot_fake_news            47.70             52.30       0.00\n",
      "                 ti_cnn            40.34             59.66       0.00\n"
     ]
    }
   ],
   "source": [
    "# Calculate percentages for each dataset\n",
    "results = []\n",
    "for dataset in df['dataset'].unique():\n",
    "    dataset_df = df[df['dataset'] == dataset]\n",
    "    total = len(dataset_df)\n",
    "    \n",
    "    true_pct = (dataset_df['veracity'] == 'true').sum() / total * 100\n",
    "    false_pct = (dataset_df['veracity'] == 'false').sum() / total * 100\n",
    "    unknown_pct = (dataset_df['veracity'] == 'unknown').sum() / total * 100\n",
    "    \n",
    "    results.append({\n",
    "        'Dataset': dataset,\n",
    "        'True claims (%)': round(true_pct, 2),\n",
    "        'False claims (%)': round(false_pct, 2),\n",
    "        'Other (%)': round(unknown_pct, 2)\n",
    "    })\n",
    "\n",
    "# Convert to DataFrame and format nicely\n",
    "results_df = pd.DataFrame(results)\n",
    "results_df = results_df.sort_values('Dataset')\n",
    "\n",
    "# Display the table\n",
    "print(\"\\nVeracity Distribution by Dataset:\")\n",
    "print(results_df.to_string(index=False))"
   ]
  },
  {
   "cell_type": "code",
   "execution_count": 12,
   "metadata": {},
   "outputs": [],
   "source": [
    "play()"
   ]
  }
 ],
 "metadata": {
  "kernelspec": {
   "display_name": "127hw4",
   "language": "python",
   "name": "python3"
  },
  "language_info": {
   "codemirror_mode": {
    "name": "ipython",
    "version": 3
   },
   "file_extension": ".py",
   "mimetype": "text/x-python",
   "name": "python",
   "nbconvert_exporter": "python",
   "pygments_lexer": "ipython3",
   "version": "3.11.0"
  }
 },
 "nbformat": 4,
 "nbformat_minor": 2
}
