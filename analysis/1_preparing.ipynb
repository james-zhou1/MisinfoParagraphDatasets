{
 "cells": [
  {
   "cell_type": "code",
   "execution_count": null,
   "metadata": {},
   "outputs": [],
   "source": [
    "import pandas as pd\n",
    "\n",
    "# Read the input file\n",
    "data = pd.read_csv('2_data_paragraph_labelled.csv', low_memory=False, encoding='latin-1')\n",
    "\n",
    "# Rename 'label' column to 'veracity'\n",
    "# data = data.rename(columns={'label': 'veracity'})\n",
    "\n",
    "# Save the prepared dataset\n",
    "data.to_csv('3_data_paragraph_labelled_prepared.csv', index=False)\n",
    "\n",
    "print(\"Dataset prepared and saved as '3_data_paragraph_labelled_prepared.csv'\")"
   ]
  },
  {
   "cell_type": "code",
   "execution_count": null,
   "metadata": {},
   "outputs": [],
   "source": [
    "# Load the output file\n",
    "output_data = pd.read_csv('2_data_paragraph_labelled.csv')\n",
    "\n",
    "# Check unique values handling NaN\n",
    "print(\"\\nUnique values in 'label':\")\n",
    "labels = output_data['label'].unique()\n",
    "labels = [str(label).lower() for label in labels if pd.notna(label)]\n",
    "print(sorted(labels))\n",
    "\n",
    "print(\"\\nUnique values in 'veracity':\")\n",
    "veracity = output_data['veracity'].unique()\n",
    "veracity = [str(v).lower() for v in veracity if pd.notna(v)]\n",
    "print(sorted(veracity))\n",
    "\n",
    "# Show distribution\n",
    "print(\"\\nLabel to Veracity mapping counts:\")\n",
    "print(output_data.groupby(['dataset', 'label', 'veracity']).size().reset_index(name='count'))"
   ]
  },
  {
   "cell_type": "code",
   "execution_count": null,
   "metadata": {},
   "outputs": [],
   "source": []
  }
 ],
 "metadata": {
  "language_info": {
   "name": "python"
  }
 },
 "nbformat": 4,
 "nbformat_minor": 2
}
