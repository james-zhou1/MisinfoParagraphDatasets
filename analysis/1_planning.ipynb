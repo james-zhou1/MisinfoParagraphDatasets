{
 "cells": [
  {
   "cell_type": "code",
   "execution_count": null,
   "metadata": {},
   "outputs": [],
   "source": [
    "import warnings\n",
    "warnings.filterwarnings('ignore')"
   ]
  },
  {
   "cell_type": "code",
   "execution_count": null,
   "metadata": {},
   "outputs": [],
   "source": [
    "from datasets import load_dataset\n",
    "dataset = load_dataset(\"ComplexDataLab/Misinfo_Datasets\", split=\"train\")\n",
    "dataset.to_csv(\"misinfo_train.csv\")\n",
    "print(\"Dataset exported to misinfo_train.csv\")"
   ]
  },
  {
   "cell_type": "code",
   "execution_count": null,
   "metadata": {},
   "outputs": [],
   "source": [
    "import pandas as pd\n",
    "hf_df = pd.read_csv(\"misinfo_train.csv\", low_memory=False, encoding='latin1')\n",
    "ad_df = pd.read_csv(\"2_data_paragraph_labelled.csv\", low_memory=False, encoding='latin1')"
   ]
  },
  {
   "cell_type": "code",
   "execution_count": null,
   "metadata": {},
   "outputs": [],
   "source": [
    "# Define the column sets\n",
    "HF = set(hf_df.columns)\n",
    "AD = set(ad_df.columns)\n",
    "HFnAD = HF - AD  # Columns in HF but not in AD\n",
    "ADnHF = AD - HF  # Columns in AD but not in HF\n",
    "\n",
    "# Print sizes of each set\n",
    "print(\"Number of columns in AD:\", len(AD))\n",
    "print(\"Number of columns in HF:\", len(HF))\n",
    "print(\"Number of columns in HF but not in AD:\", len(HFnAD))\n",
    "print(\"Number of columns in AD but not in HF:\", len(ADnHF))\n"
   ]
  },
  {
   "cell_type": "code",
   "execution_count": null,
   "metadata": {},
   "outputs": [],
   "source": [
    "emptyAD = ['claim', 'question', 'answer', 'positive_evidence_text', 'positive_evidence_title', 'negative_evidence_text', 'negative_evidence_title', 'meta_description', 'tags', 'initial_claim', 'fact1', 'fact2', 'fact3', 'fact4', 'num_hops', 'similarity', 'like_count', 'retweet_count', 'tweet_text', 'tweet_label', 'hashtag', 'evidence_1', 'link_evidence_1', 'source_evidence_1', 'author_2', 'article_title', 'meta_data_description', 'meta_data_keywords', 'meta_data_date', 'meta_data_journal', 'meta_data_type', 'meta_data_institution', 'meta_data_region', 'meta_data_twitter_site', 'meta_data_twitter_creator', 'meta_data_twitter_domain', 'meta_data_twitter_title', 'meta_data_twitter_description', 'meta_data_twitter_image', 'meta_data_twitter_url', 'meta_data_og_title', 'meta_data_og_description', 'meta_data_og_site_name', 'meta_data_og_url', 'meta_data_og_image', 'meta_data_og_type', 'source_id', 'fact_check_url', 'tweet_id', 'revelant_to_vaccines', 'mention_non_covid_vaccine', 'contain_misinfo_about_vaccine', 'about_vaccine_dev_availability_acces', 'about_safety_efficacy_acceptance', 'about_infertility', 'about_political_economic_motives', 'about_mandatory_vaccines_ethics', 'about_vaccine_reagents', 'about_vaccine_morbidity_or_mortality', 'about_vaccine_alternatives', 'about_susceptibility_influenza_vaccine', 'about_vaccine_misinfo_not_in_subthemes', 'dominant_sentiment_tweet', 'dominant_sentiment_vaccine', 'image_id', 'image_url', 'event', 'label_2', 'misconception', 'canonical_sentence', 'reliability_score', 'pos_variations', 'Q1_contain_factual_claim', 'Q2_contain_false_info', 'Q3_impact_on_public', 'Q4_harmful_to_society', 'Q5_factchecker_need_check_claim', 'Q6_is_harmuful_why', 'Q7_need_attention_gov', 'reply_id', 'type', 'archive', 'source_url_2', 'source_url_3', 'source_url_4', 'source_url_5', 'article_abstract', 'is_rumor', 'user.handle', 'true_url', 'false_claim', 'true_claim', 'false_url', 'query', 'snopes_url', 'author_job', 'party_affiliation', 'credit_count_barely_true', 'credit_count_false', 'credit_count_half_true', 'credit_count_mostly_true', 'credit_count_pants_fire', 'origin', 'comment', \"what's true\", \"what's false\", \"what's unknown\", 'summary', 'Query', 'name', 'collection_id', 'day', 'month', 'year', 'link', 'web', 'country1', 'country2', 'country3', 'country4', 's_no', 'language2', 'subject_description', 'Motive', 'Motive_Description', 'author_description', 'Distrib_Channel', 'Misinfo_Type', 'keywords', 'writer_intent', 'effect_on_reader', 'reader_action', 'spread', 'pred_label', 'related_tweet', '5_label_majority_answer', '3_label_majority_answer', 'political_bias', 'video_url', 'video_title', 'video_translation_french', 'video_translation_spanish', 'video_translation_russian', 'video_translation_arabic', 'evidence_2', 'evidence_3', 'evidence_4', 'evidence_5', 'link_evidence_2', 'link_evidence_3', 'link_evidence_4', 'link_evidence_5', 'verifiable', 'image_title', 'has_image', 'num_comments', 'subreddit', 'upvote_ratio', 'three_label', 'six_label', 'evidence_sent_index', 'evidence_type', 'is_auth', 'evidence_id', 'evidence_label', 'article', 'evidence', 'entropy', 'Misinfo_type', 'speaker']\n",
    "existADnHF = ADnHF - set(emptyAD)\n",
    "print(\"Number of non-empty columns in ADnHF:\", len(existADnHF))"
   ]
  },
  {
   "cell_type": "code",
   "execution_count": null,
   "metadata": {},
   "outputs": [],
   "source": [
    "# Print columns in existADnHF\n",
    "print(\"Columns in existADnHF:\")\n",
    "for col in sorted(existADnHF):\n",
    "    print(col)\n",
    "\n",
    "print(\"\\nColumns in HF:\")\n",
    "for col in sorted(HF):\n",
    "    print(col)\n",
    "\n",
    "print(\"\\nPlease review the columns in existADnHF and evaluate if any of them match up with a column in HF.\")"
   ]
  },
  {
   "cell_type": "code",
   "execution_count": null,
   "metadata": {},
   "outputs": [],
   "source": [
    "print(existADnHF)\n",
    "print(len(existADnHF))"
   ]
  },
  {
   "cell_type": "code",
   "execution_count": null,
   "metadata": {},
   "outputs": [],
   "source": [
    "print(HF)\n",
    "print(len(HF))"
   ]
  }
 ],
 "metadata": {
  "language_info": {
   "name": "python"
  }
 },
 "nbformat": 4,
 "nbformat_minor": 2
}
